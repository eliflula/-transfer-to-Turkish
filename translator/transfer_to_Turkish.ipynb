{
 "cells": [
  {
   "cell_type": "code",
   "execution_count": 1,
   "id": "fcbe1aee",
   "metadata": {},
   "outputs": [
    {
     "name": "stdout",
     "output_type": "stream",
     "text": [
      "Conversion complete. CSV file saved at: rag_instruct_benchmark_tester.csv\n"
     ]
    },
    {
     "data": {
      "text/html": [
       "<div>\n",
       "<style scoped>\n",
       "    .dataframe tbody tr th:only-of-type {\n",
       "        vertical-align: middle;\n",
       "    }\n",
       "\n",
       "    .dataframe tbody tr th {\n",
       "        vertical-align: top;\n",
       "    }\n",
       "\n",
       "    .dataframe thead th {\n",
       "        text-align: right;\n",
       "    }\n",
       "</style>\n",
       "<table border=\"1\" class=\"dataframe\">\n",
       "  <thead>\n",
       "    <tr style=\"text-align: right;\">\n",
       "      <th></th>\n",
       "      <th>query</th>\n",
       "      <th>answer</th>\n",
       "      <th>context</th>\n",
       "      <th>sample_number</th>\n",
       "      <th>tokens</th>\n",
       "      <th>category</th>\n",
       "    </tr>\n",
       "  </thead>\n",
       "  <tbody>\n",
       "    <tr>\n",
       "      <th>0</th>\n",
       "      <td>What is the total amount of the invoice?</td>\n",
       "      <td>$22,500.00</td>\n",
       "      <td>Services Vendor Inc. \\n100 Elm Street Pleasant...</td>\n",
       "      <td>0</td>\n",
       "      <td>138</td>\n",
       "      <td>core</td>\n",
       "    </tr>\n",
       "    <tr>\n",
       "      <th>1</th>\n",
       "      <td>What is the invoice number?</td>\n",
       "      <td>#0001</td>\n",
       "      <td>Services Vendor Inc. \\n100 Elm Street Pleasant...</td>\n",
       "      <td>1</td>\n",
       "      <td>138</td>\n",
       "      <td>core</td>\n",
       "    </tr>\n",
       "    <tr>\n",
       "      <th>2</th>\n",
       "      <td>What is a list of the items being purchased?</td>\n",
       "      <td>•Front End Engineering Service;\\n•Back End Eng...</td>\n",
       "      <td>Services Vendor Inc. \\n100 Elm Street Pleasant...</td>\n",
       "      <td>2</td>\n",
       "      <td>138</td>\n",
       "      <td>core</td>\n",
       "    </tr>\n",
       "    <tr>\n",
       "      <th>3</th>\n",
       "      <td>What is the name of the contact for question?</td>\n",
       "      <td>Bia Hermes</td>\n",
       "      <td>Services Vendor Inc. \\n100 Elm Street Pleasant...</td>\n",
       "      <td>3</td>\n",
       "      <td>138</td>\n",
       "      <td>core</td>\n",
       "    </tr>\n",
       "    <tr>\n",
       "      <th>4</th>\n",
       "      <td>What is the PO number?</td>\n",
       "      <td>#1000</td>\n",
       "      <td>Services Vendor Inc. \\n100 Elm Street Pleasant...</td>\n",
       "      <td>4</td>\n",
       "      <td>138</td>\n",
       "      <td>core</td>\n",
       "    </tr>\n",
       "  </tbody>\n",
       "</table>\n",
       "</div>"
      ],
      "text/plain": [
       "                                           query  \\\n",
       "0       What is the total amount of the invoice?   \n",
       "1                    What is the invoice number?   \n",
       "2   What is a list of the items being purchased?   \n",
       "3  What is the name of the contact for question?   \n",
       "4                         What is the PO number?   \n",
       "\n",
       "                                              answer  \\\n",
       "0                                         $22,500.00   \n",
       "1                                              #0001   \n",
       "2  •Front End Engineering Service;\\n•Back End Eng...   \n",
       "3                                         Bia Hermes   \n",
       "4                                              #1000   \n",
       "\n",
       "                                             context  sample_number  tokens  \\\n",
       "0  Services Vendor Inc. \\n100 Elm Street Pleasant...              0     138   \n",
       "1  Services Vendor Inc. \\n100 Elm Street Pleasant...              1     138   \n",
       "2  Services Vendor Inc. \\n100 Elm Street Pleasant...              2     138   \n",
       "3  Services Vendor Inc. \\n100 Elm Street Pleasant...              3     138   \n",
       "4  Services Vendor Inc. \\n100 Elm Street Pleasant...              4     138   \n",
       "\n",
       "  category  \n",
       "0     core  \n",
       "1     core  \n",
       "2     core  \n",
       "3     core  \n",
       "4     core  "
      ]
     },
     "execution_count": 1,
     "metadata": {},
     "output_type": "execute_result"
    }
   ],
   "source": [
    "import json\n",
    "import csv\n",
    "import pandas as pd\n",
    "\n",
    "def jsonl_to_csv(jsonl_file, csv_file):\n",
    "    with open(jsonl_file, 'r', encoding='utf-8') as json_file, open(csv_file, 'w', newline='', encoding='utf-8') as csv_file:\n",
    "        csv_writer = csv.writer(csv_file)\n",
    "\n",
    "        # Read each line from the JSONL file\n",
    "        for line in json_file:\n",
    "            # Load JSON from the line\n",
    "            data = json.loads(line)\n",
    "            \n",
    "            # Assuming the first line contains the keys for the CSV header\n",
    "            if 'header' not in locals():\n",
    "                header = data.keys()\n",
    "                csv_writer.writerow(header)\n",
    "\n",
    "            # Write the data to the CSV file\n",
    "            csv_writer.writerow(data.values())\n",
    "\n",
    "# Specify the paths for your JSONL and CSV files\n",
    "jsonl_file_path = 'rag_instruct_benchmark_tester.jsonl'\n",
    "csv_file_path = 'rag_instruct_benchmark_tester.csv'\n",
    "\n",
    "# Convert JSONL to CSV\n",
    "jsonl_to_csv(jsonl_file_path, csv_file_path)\n",
    "\n",
    "print(f\"Conversion complete. CSV file saved at: {csv_file_path}\")\n",
    "\n",
    "\n",
    "df = pd.read_csv(\"rag_instruct_benchmark_tester.csv\")\n",
    "df.head()"
   ]
  },
  {
   "cell_type": "code",
   "execution_count": 3,
   "id": "3ebd0a5c",
   "metadata": {},
   "outputs": [
    {
     "name": "stdout",
     "output_type": "stream",
     "text": [
      "Requirement already satisfied: googletrans in c:\\users\\elift\\anaconda3\\lib\\site-packages (3.0.0)\n",
      "Requirement already satisfied: httpx==0.13.3 in c:\\users\\elift\\anaconda3\\lib\\site-packages (from googletrans) (0.13.3)\n",
      "Requirement already satisfied: certifi in c:\\users\\elift\\anaconda3\\lib\\site-packages (from httpx==0.13.3->googletrans) (2023.7.22)\n",
      "Requirement already satisfied: hstspreload in c:\\users\\elift\\anaconda3\\lib\\site-packages (from httpx==0.13.3->googletrans) (2023.1.1)\n",
      "Requirement already satisfied: sniffio in c:\\users\\elift\\anaconda3\\lib\\site-packages (from httpx==0.13.3->googletrans) (1.2.0)\n",
      "Requirement already satisfied: chardet==3.* in c:\\users\\elift\\anaconda3\\lib\\site-packages (from httpx==0.13.3->googletrans) (3.0.4)\n",
      "Requirement already satisfied: idna==2.* in c:\\users\\elift\\anaconda3\\lib\\site-packages (from httpx==0.13.3->googletrans) (2.10)\n",
      "Requirement already satisfied: rfc3986<2,>=1.3 in c:\\users\\elift\\anaconda3\\lib\\site-packages (from httpx==0.13.3->googletrans) (1.5.0)\n",
      "Requirement already satisfied: httpcore==0.9.* in c:\\users\\elift\\anaconda3\\lib\\site-packages (from httpx==0.13.3->googletrans) (0.9.1)\n",
      "Requirement already satisfied: h11<0.10,>=0.8 in c:\\users\\elift\\anaconda3\\lib\\site-packages (from httpcore==0.9.*->httpx==0.13.3->googletrans) (0.9.0)\n",
      "Requirement already satisfied: h2==3.* in c:\\users\\elift\\anaconda3\\lib\\site-packages (from httpcore==0.9.*->httpx==0.13.3->googletrans) (3.2.0)\n",
      "Requirement already satisfied: hyperframe<6,>=5.2.0 in c:\\users\\elift\\anaconda3\\lib\\site-packages (from h2==3.*->httpcore==0.9.*->httpx==0.13.3->googletrans) (5.2.0)\n",
      "Requirement already satisfied: hpack<4,>=3.0 in c:\\users\\elift\\anaconda3\\lib\\site-packages (from h2==3.*->httpcore==0.9.*->httpx==0.13.3->googletrans) (3.0.0)\n",
      "Requirement already satisfied: beautifulsoup4 in c:\\users\\elift\\anaconda3\\lib\\site-packages (4.12.2)\n",
      "Requirement already satisfied: soupsieve>1.2 in c:\\users\\elift\\anaconda3\\lib\\site-packages (from beautifulsoup4) (2.4)\n",
      "Requirement already satisfied: requests in c:\\users\\elift\\anaconda3\\lib\\site-packages (2.31.0)\n",
      "Requirement already satisfied: charset-normalizer<4,>=2 in c:\\users\\elift\\anaconda3\\lib\\site-packages (from requests) (2.0.4)\n",
      "Requirement already satisfied: idna<4,>=2.5 in c:\\users\\elift\\anaconda3\\lib\\site-packages (from requests) (2.10)\n",
      "Requirement already satisfied: urllib3<3,>=1.21.1 in c:\\users\\elift\\anaconda3\\lib\\site-packages (from requests) (1.26.16)\n",
      "Requirement already satisfied: certifi>=2017.4.17 in c:\\users\\elift\\anaconda3\\lib\\site-packages (from requests) (2023.7.22)\n"
     ]
    }
   ],
   "source": [
    "!pip install googletrans\n",
    "#!pip install matplotlib\n",
    "!pip install beautifulsoup4\n",
    "!pip install requests\n",
    "!pip install translate"
   ]
  },
  {
   "cell_type": "code",
   "execution_count": 5,
   "id": "2ace8d82",
   "metadata": {},
   "outputs": [],
   "source": [
    "new_df = df.head(5).copy()"
   ]
  },
  {
   "cell_type": "markdown",
   "id": "839721b0",
   "metadata": {},
   "source": [
    "# translate.google.com"
   ]
  },
  {
   "cell_type": "code",
   "execution_count": 6,
   "id": "8e006032",
   "metadata": {},
   "outputs": [
    {
     "data": {
      "text/html": [
       "<div>\n",
       "<style scoped>\n",
       "    .dataframe tbody tr th:only-of-type {\n",
       "        vertical-align: middle;\n",
       "    }\n",
       "\n",
       "    .dataframe tbody tr th {\n",
       "        vertical-align: top;\n",
       "    }\n",
       "\n",
       "    .dataframe thead th {\n",
       "        text-align: right;\n",
       "    }\n",
       "</style>\n",
       "<table border=\"1\" class=\"dataframe\">\n",
       "  <thead>\n",
       "    <tr style=\"text-align: right;\">\n",
       "      <th></th>\n",
       "      <th>query</th>\n",
       "      <th>answer</th>\n",
       "      <th>context</th>\n",
       "      <th>sample_number</th>\n",
       "      <th>tokens</th>\n",
       "      <th>category</th>\n",
       "      <th>query1</th>\n",
       "      <th>answer1</th>\n",
       "      <th>context1</th>\n",
       "    </tr>\n",
       "  </thead>\n",
       "  <tbody>\n",
       "    <tr>\n",
       "      <th>0</th>\n",
       "      <td>What is the total amount of the invoice?</td>\n",
       "      <td>$22,500.00</td>\n",
       "      <td>Services Vendor Inc. \\n100 Elm Street Pleasant...</td>\n",
       "      <td>0</td>\n",
       "      <td>138</td>\n",
       "      <td>core</td>\n",
       "      <td>MYMEMORY WARNING: YOU USED ALL AVAILABLE FREE ...</td>\n",
       "      <td>MYMEMORY WARNING: YOU USED ALL AVAILABLE FREE ...</td>\n",
       "      <td>QUERY LENGTH LIMIT EXCEEDED. MAX ALLOWED QUERY...</td>\n",
       "    </tr>\n",
       "    <tr>\n",
       "      <th>1</th>\n",
       "      <td>What is the invoice number?</td>\n",
       "      <td>#0001</td>\n",
       "      <td>Services Vendor Inc. \\n100 Elm Street Pleasant...</td>\n",
       "      <td>1</td>\n",
       "      <td>138</td>\n",
       "      <td>core</td>\n",
       "      <td>MYMEMORY WARNING: YOU USED ALL AVAILABLE FREE ...</td>\n",
       "      <td>MYMEMORY WARNING: YOU USED ALL AVAILABLE FREE ...</td>\n",
       "      <td>QUERY LENGTH LIMIT EXCEEDED. MAX ALLOWED QUERY...</td>\n",
       "    </tr>\n",
       "    <tr>\n",
       "      <th>2</th>\n",
       "      <td>What is a list of the items being purchased?</td>\n",
       "      <td>•Front End Engineering Service;\\n•Back End Eng...</td>\n",
       "      <td>Services Vendor Inc. \\n100 Elm Street Pleasant...</td>\n",
       "      <td>2</td>\n",
       "      <td>138</td>\n",
       "      <td>core</td>\n",
       "      <td>MYMEMORY WARNING: YOU USED ALL AVAILABLE FREE ...</td>\n",
       "      <td>MYMEMORY WARNING: YOU USED ALL AVAILABLE FREE ...</td>\n",
       "      <td>QUERY LENGTH LIMIT EXCEEDED. MAX ALLOWED QUERY...</td>\n",
       "    </tr>\n",
       "    <tr>\n",
       "      <th>3</th>\n",
       "      <td>What is the name of the contact for question?</td>\n",
       "      <td>Bia Hermes</td>\n",
       "      <td>Services Vendor Inc. \\n100 Elm Street Pleasant...</td>\n",
       "      <td>3</td>\n",
       "      <td>138</td>\n",
       "      <td>core</td>\n",
       "      <td>MYMEMORY WARNING: YOU USED ALL AVAILABLE FREE ...</td>\n",
       "      <td>MYMEMORY WARNING: YOU USED ALL AVAILABLE FREE ...</td>\n",
       "      <td>QUERY LENGTH LIMIT EXCEEDED. MAX ALLOWED QUERY...</td>\n",
       "    </tr>\n",
       "    <tr>\n",
       "      <th>4</th>\n",
       "      <td>What is the PO number?</td>\n",
       "      <td>#1000</td>\n",
       "      <td>Services Vendor Inc. \\n100 Elm Street Pleasant...</td>\n",
       "      <td>4</td>\n",
       "      <td>138</td>\n",
       "      <td>core</td>\n",
       "      <td>MYMEMORY WARNING: YOU USED ALL AVAILABLE FREE ...</td>\n",
       "      <td>MYMEMORY WARNING: YOU USED ALL AVAILABLE FREE ...</td>\n",
       "      <td>QUERY LENGTH LIMIT EXCEEDED. MAX ALLOWED QUERY...</td>\n",
       "    </tr>\n",
       "  </tbody>\n",
       "</table>\n",
       "</div>"
      ],
      "text/plain": [
       "                                           query  \\\n",
       "0       What is the total amount of the invoice?   \n",
       "1                    What is the invoice number?   \n",
       "2   What is a list of the items being purchased?   \n",
       "3  What is the name of the contact for question?   \n",
       "4                         What is the PO number?   \n",
       "\n",
       "                                              answer  \\\n",
       "0                                         $22,500.00   \n",
       "1                                              #0001   \n",
       "2  •Front End Engineering Service;\\n•Back End Eng...   \n",
       "3                                         Bia Hermes   \n",
       "4                                              #1000   \n",
       "\n",
       "                                             context  sample_number  tokens  \\\n",
       "0  Services Vendor Inc. \\n100 Elm Street Pleasant...              0     138   \n",
       "1  Services Vendor Inc. \\n100 Elm Street Pleasant...              1     138   \n",
       "2  Services Vendor Inc. \\n100 Elm Street Pleasant...              2     138   \n",
       "3  Services Vendor Inc. \\n100 Elm Street Pleasant...              3     138   \n",
       "4  Services Vendor Inc. \\n100 Elm Street Pleasant...              4     138   \n",
       "\n",
       "  category                                             query1  \\\n",
       "0     core  MYMEMORY WARNING: YOU USED ALL AVAILABLE FREE ...   \n",
       "1     core  MYMEMORY WARNING: YOU USED ALL AVAILABLE FREE ...   \n",
       "2     core  MYMEMORY WARNING: YOU USED ALL AVAILABLE FREE ...   \n",
       "3     core  MYMEMORY WARNING: YOU USED ALL AVAILABLE FREE ...   \n",
       "4     core  MYMEMORY WARNING: YOU USED ALL AVAILABLE FREE ...   \n",
       "\n",
       "                                             answer1  \\\n",
       "0  MYMEMORY WARNING: YOU USED ALL AVAILABLE FREE ...   \n",
       "1  MYMEMORY WARNING: YOU USED ALL AVAILABLE FREE ...   \n",
       "2  MYMEMORY WARNING: YOU USED ALL AVAILABLE FREE ...   \n",
       "3  MYMEMORY WARNING: YOU USED ALL AVAILABLE FREE ...   \n",
       "4  MYMEMORY WARNING: YOU USED ALL AVAILABLE FREE ...   \n",
       "\n",
       "                                            context1  \n",
       "0  QUERY LENGTH LIMIT EXCEEDED. MAX ALLOWED QUERY...  \n",
       "1  QUERY LENGTH LIMIT EXCEEDED. MAX ALLOWED QUERY...  \n",
       "2  QUERY LENGTH LIMIT EXCEEDED. MAX ALLOWED QUERY...  \n",
       "3  QUERY LENGTH LIMIT EXCEEDED. MAX ALLOWED QUERY...  \n",
       "4  QUERY LENGTH LIMIT EXCEEDED. MAX ALLOWED QUERY...  "
      ]
     },
     "execution_count": 6,
     "metadata": {},
     "output_type": "execute_result"
    }
   ],
   "source": [
    "from googletrans import Translator\n",
    "import pandas as pd\n",
    "\n",
    "from translate import Translator\n",
    "\n",
    "def translate_to_turkish(text):\n",
    "    translator = Translator(to_lang=\"tr\", service_urls=['translate.google.com'])\n",
    "    translation = translator.translate(text)\n",
    "    return translation\n",
    "\n",
    "new_df['query1'] = new_df['query'].apply(translate_to_turkish)\n",
    "new_df['answer1'] = new_df['answer'].apply(translate_to_turkish)\n",
    "new_df['context1'] = new_df['context'].apply(translate_to_turkish)\n",
    "\n",
    "new_df.to_csv('new_df.csv', index=False)\n",
    "\n",
    "new_df.head()"
   ]
  },
  {
   "cell_type": "code",
   "execution_count": 8,
   "id": "ff7c1e44",
   "metadata": {},
   "outputs": [
    {
     "data": {
      "text/html": [
       "<div>\n",
       "<style scoped>\n",
       "    .dataframe tbody tr th:only-of-type {\n",
       "        vertical-align: middle;\n",
       "    }\n",
       "\n",
       "    .dataframe tbody tr th {\n",
       "        vertical-align: top;\n",
       "    }\n",
       "\n",
       "    .dataframe thead th {\n",
       "        text-align: right;\n",
       "    }\n",
       "</style>\n",
       "<table border=\"1\" class=\"dataframe\">\n",
       "  <thead>\n",
       "    <tr style=\"text-align: right;\">\n",
       "      <th></th>\n",
       "      <th>query</th>\n",
       "      <th>answer</th>\n",
       "      <th>context</th>\n",
       "      <th>sample_number</th>\n",
       "      <th>tokens</th>\n",
       "      <th>category</th>\n",
       "      <th>query1</th>\n",
       "      <th>answer1</th>\n",
       "      <th>context1</th>\n",
       "    </tr>\n",
       "  </thead>\n",
       "  <tbody>\n",
       "    <tr>\n",
       "      <th>0</th>\n",
       "      <td>What is the total amount of the invoice?</td>\n",
       "      <td>$22,500.00</td>\n",
       "      <td>Services Vendor Inc. \\n100 Elm Street Pleasant...</td>\n",
       "      <td>0</td>\n",
       "      <td>138</td>\n",
       "      <td>core</td>\n",
       "      <td>MYMEMORY WARNING: YOU USED ALL AVAILABLE FREE ...</td>\n",
       "      <td>MYMEMORY WARNING: YOU USED ALL AVAILABLE FREE ...</td>\n",
       "      <td>QUERY LENGTH LIMIT EXCEEDED. MAX ALLOWED QUERY...</td>\n",
       "    </tr>\n",
       "    <tr>\n",
       "      <th>1</th>\n",
       "      <td>What is the invoice number?</td>\n",
       "      <td>#0001</td>\n",
       "      <td>Services Vendor Inc. \\n100 Elm Street Pleasant...</td>\n",
       "      <td>1</td>\n",
       "      <td>138</td>\n",
       "      <td>core</td>\n",
       "      <td>MYMEMORY WARNING: YOU USED ALL AVAILABLE FREE ...</td>\n",
       "      <td>MYMEMORY WARNING: YOU USED ALL AVAILABLE FREE ...</td>\n",
       "      <td>QUERY LENGTH LIMIT EXCEEDED. MAX ALLOWED QUERY...</td>\n",
       "    </tr>\n",
       "    <tr>\n",
       "      <th>2</th>\n",
       "      <td>What is a list of the items being purchased?</td>\n",
       "      <td>•Front End Engineering Service;\\n•Back End Eng...</td>\n",
       "      <td>Services Vendor Inc. \\n100 Elm Street Pleasant...</td>\n",
       "      <td>2</td>\n",
       "      <td>138</td>\n",
       "      <td>core</td>\n",
       "      <td>MYMEMORY WARNING: YOU USED ALL AVAILABLE FREE ...</td>\n",
       "      <td>MYMEMORY WARNING: YOU USED ALL AVAILABLE FREE ...</td>\n",
       "      <td>QUERY LENGTH LIMIT EXCEEDED. MAX ALLOWED QUERY...</td>\n",
       "    </tr>\n",
       "    <tr>\n",
       "      <th>3</th>\n",
       "      <td>What is the name of the contact for question?</td>\n",
       "      <td>Bia Hermes</td>\n",
       "      <td>Services Vendor Inc. \\n100 Elm Street Pleasant...</td>\n",
       "      <td>3</td>\n",
       "      <td>138</td>\n",
       "      <td>core</td>\n",
       "      <td>MYMEMORY WARNING: YOU USED ALL AVAILABLE FREE ...</td>\n",
       "      <td>MYMEMORY WARNING: YOU USED ALL AVAILABLE FREE ...</td>\n",
       "      <td>QUERY LENGTH LIMIT EXCEEDED. MAX ALLOWED QUERY...</td>\n",
       "    </tr>\n",
       "    <tr>\n",
       "      <th>4</th>\n",
       "      <td>What is the PO number?</td>\n",
       "      <td>#1000</td>\n",
       "      <td>Services Vendor Inc. \\n100 Elm Street Pleasant...</td>\n",
       "      <td>4</td>\n",
       "      <td>138</td>\n",
       "      <td>core</td>\n",
       "      <td>MYMEMORY WARNING: YOU USED ALL AVAILABLE FREE ...</td>\n",
       "      <td>MYMEMORY WARNING: YOU USED ALL AVAILABLE FREE ...</td>\n",
       "      <td>QUERY LENGTH LIMIT EXCEEDED. MAX ALLOWED QUERY...</td>\n",
       "    </tr>\n",
       "  </tbody>\n",
       "</table>\n",
       "</div>"
      ],
      "text/plain": [
       "                                           query  \\\n",
       "0       What is the total amount of the invoice?   \n",
       "1                    What is the invoice number?   \n",
       "2   What is a list of the items being purchased?   \n",
       "3  What is the name of the contact for question?   \n",
       "4                         What is the PO number?   \n",
       "\n",
       "                                              answer  \\\n",
       "0                                         $22,500.00   \n",
       "1                                              #0001   \n",
       "2  •Front End Engineering Service;\\n•Back End Eng...   \n",
       "3                                         Bia Hermes   \n",
       "4                                              #1000   \n",
       "\n",
       "                                             context  sample_number  tokens  \\\n",
       "0  Services Vendor Inc. \\n100 Elm Street Pleasant...              0     138   \n",
       "1  Services Vendor Inc. \\n100 Elm Street Pleasant...              1     138   \n",
       "2  Services Vendor Inc. \\n100 Elm Street Pleasant...              2     138   \n",
       "3  Services Vendor Inc. \\n100 Elm Street Pleasant...              3     138   \n",
       "4  Services Vendor Inc. \\n100 Elm Street Pleasant...              4     138   \n",
       "\n",
       "  category                                             query1  \\\n",
       "0     core  MYMEMORY WARNING: YOU USED ALL AVAILABLE FREE ...   \n",
       "1     core  MYMEMORY WARNING: YOU USED ALL AVAILABLE FREE ...   \n",
       "2     core  MYMEMORY WARNING: YOU USED ALL AVAILABLE FREE ...   \n",
       "3     core  MYMEMORY WARNING: YOU USED ALL AVAILABLE FREE ...   \n",
       "4     core  MYMEMORY WARNING: YOU USED ALL AVAILABLE FREE ...   \n",
       "\n",
       "                                             answer1  \\\n",
       "0  MYMEMORY WARNING: YOU USED ALL AVAILABLE FREE ...   \n",
       "1  MYMEMORY WARNING: YOU USED ALL AVAILABLE FREE ...   \n",
       "2  MYMEMORY WARNING: YOU USED ALL AVAILABLE FREE ...   \n",
       "3  MYMEMORY WARNING: YOU USED ALL AVAILABLE FREE ...   \n",
       "4  MYMEMORY WARNING: YOU USED ALL AVAILABLE FREE ...   \n",
       "\n",
       "                                            context1  \n",
       "0  QUERY LENGTH LIMIT EXCEEDED. MAX ALLOWED QUERY...  \n",
       "1  QUERY LENGTH LIMIT EXCEEDED. MAX ALLOWED QUERY...  \n",
       "2  QUERY LENGTH LIMIT EXCEEDED. MAX ALLOWED QUERY...  \n",
       "3  QUERY LENGTH LIMIT EXCEEDED. MAX ALLOWED QUERY...  \n",
       "4  QUERY LENGTH LIMIT EXCEEDED. MAX ALLOWED QUERY...  "
      ]
     },
     "execution_count": 8,
     "metadata": {},
     "output_type": "execute_result"
    }
   ],
   "source": [
    "from translate import Translator\n",
    "import pandas as pd\n",
    "\n",
    "def translate_to_turkish(text):\n",
    "    translator = Translator(to_lang=\"tr\", service_urls=['translate.google.com'])\n",
    "    translation = translator.translate(text)\n",
    "    return translation\n",
    "\n",
    "# Apply the translation function to the specified columns in the DataFrame\n",
    "new_df['query1'] = new_df['query'].apply(translate_to_turkish)\n",
    "new_df['answer1'] = new_df['answer'].apply(translate_to_turkish)\n",
    "new_df['context1'] = new_df['context'].apply(translate_to_turkish)\n",
    "\n",
    "# lowercase\n",
    "# new_df['query1'] = new_df['query'].apply(lambda x: translate_to_turkish(x.lower()))  # Translate and convert to lowercase\n",
    "# new_df['answer1'] = new_df['answer'].apply(lambda x: translate_to_turkish(x.lower()))\n",
    "# new_df['context1'] = new_df['context'].apply(lambda x: translate_to_turkish(x.lower()))\n",
    "\n",
    "\n",
    "# Save the translated DataFrame to a new CSV file\n",
    "new_df.to_csv('new_df.csv', index=False)\n",
    "\n",
    "# Display the first few rows of the translated DataFrame\n",
    "new_df.head()\n"
   ]
  },
  {
   "cell_type": "markdown",
   "id": "debe00ce",
   "metadata": {},
   "source": [
    "# pipeline translator"
   ]
  },
  {
   "cell_type": "markdown",
   "id": "968ae213",
   "metadata": {},
   "source": [
    "# https://huggingface.co/Helsinki-NLP/opus-mt-tr-en?text=merhaba"
   ]
  },
  {
   "cell_type": "code",
   "execution_count": 16,
   "id": "3b30cf1a",
   "metadata": {},
   "outputs": [
    {
     "name": "stdout",
     "output_type": "stream",
     "text": [
      "MYMEMORY WARNING: YOU USED ALL AVAILABLE FREE TRANSLATIONS FOR TODAY. NEXT AVAILABLE IN  14 HOURS 32 MINUTES 53 SECONDS VISIT HTTPS://MYMEMORY.TRANSLATED.NET/DOC/USAGELIMITS.PHP TO TRANSLATE MORE\n"
     ]
    }
   ],
   "source": [
    "from translate import Translator\n",
    "\n",
    "translator = Translator(to_lang=\"no\")\n",
    "translation = translator.translate(\"Good Morning! How are you? I am going for a walk. Do you want to join me?\")\n",
    "print(translation)\n"
   ]
  },
  {
   "cell_type": "code",
   "execution_count": 18,
   "id": "c5620a2b",
   "metadata": {},
   "outputs": [
    {
     "name": "stderr",
     "output_type": "stream",
     "text": [
      "No model was supplied, defaulted to t5-base and revision 686f1db (https://huggingface.co/t5-base).\n",
      "Using a pipeline without specifying a model name and revision in production is not recommended.\n"
     ]
    },
    {
     "data": {
      "application/vnd.jupyter.widget-view+json": {
       "model_id": "7e821375bdcb484882cc6df5c271170f",
       "version_major": 2,
       "version_minor": 0
      },
      "text/plain": [
       "Downloading config.json:   0%|          | 0.00/1.21k [00:00<?, ?B/s]"
      ]
     },
     "metadata": {},
     "output_type": "display_data"
    },
    {
     "name": "stderr",
     "output_type": "stream",
     "text": [
      "C:\\Users\\elift\\anaconda3\\Lib\\site-packages\\huggingface_hub\\file_download.py:133: UserWarning: `huggingface_hub` cache-system uses symlinks by default to efficiently store duplicated files but your machine does not support them in C:\\Users\\elift\\.cache\\huggingface\\hub. Caching files will still work but in a degraded version that might require more space on your disk. This warning can be disabled by setting the `HF_HUB_DISABLE_SYMLINKS_WARNING` environment variable. For more details, see https://huggingface.co/docs/huggingface_hub/how-to-cache#limitations.\n",
      "To support symlinks on Windows, you either need to activate Developer Mode or to run Python as an administrator. In order to see activate developer mode, see this article: https://docs.microsoft.com/en-us/windows/apps/get-started/enable-your-device-for-development\n",
      "  warnings.warn(message)\n"
     ]
    },
    {
     "data": {
      "application/vnd.jupyter.widget-view+json": {
       "model_id": "f0b24b6cb4144e4c8e55a4db474e500a",
       "version_major": 2,
       "version_minor": 0
      },
      "text/plain": [
       "Downloading model.safetensors:   0%|          | 0.00/892M [00:00<?, ?B/s]"
      ]
     },
     "metadata": {},
     "output_type": "display_data"
    },
    {
     "data": {
      "application/vnd.jupyter.widget-view+json": {
       "model_id": "09625542ec7240379cf2409d5fdeffd4",
       "version_major": 2,
       "version_minor": 0
      },
      "text/plain": [
       "Downloading generation_config.json:   0%|          | 0.00/147 [00:00<?, ?B/s]"
      ]
     },
     "metadata": {},
     "output_type": "display_data"
    },
    {
     "data": {
      "application/vnd.jupyter.widget-view+json": {
       "model_id": "9165f3a39773479fa14da643e1fa5ab3",
       "version_major": 2,
       "version_minor": 0
      },
      "text/plain": [
       "Downloading spiece.model:   0%|          | 0.00/792k [00:00<?, ?B/s]"
      ]
     },
     "metadata": {},
     "output_type": "display_data"
    },
    {
     "data": {
      "application/vnd.jupyter.widget-view+json": {
       "model_id": "7fc53025ae2d4dcf8e30cdb0c2a3ff04",
       "version_major": 2,
       "version_minor": 0
      },
      "text/plain": [
       "Downloading tokenizer.json:   0%|          | 0.00/1.39M [00:00<?, ?B/s]"
      ]
     },
     "metadata": {},
     "output_type": "display_data"
    },
    {
     "name": "stderr",
     "output_type": "stream",
     "text": [
      "C:\\Users\\elift\\anaconda3\\Lib\\site-packages\\transformers\\models\\t5\\tokenization_t5_fast.py:155: FutureWarning: This tokenizer was incorrectly instantiated with a model max length of 512 which will be corrected in Transformers v5.\n",
      "For now, this behavior is kept to avoid breaking backwards compatibility when padding/encoding with `truncation is True`.\n",
      "- Be aware that you SHOULD NOT rely on t5-base automatically truncating your input to 512 when padding/encoding.\n",
      "- If you want to encode/pad to sequences longer than 512 you can either instantiate this tokenizer with `model_max_length` or pass `max_length` when encoding/padding.\n",
      "- To avoid this warning, please instantiate this tokenizer with `model_max_length` set to your preferred value.\n",
      "  warnings.warn(\n"
     ]
    },
    {
     "name": "stdout",
     "output_type": "stream",
     "text": [
      " Ich hoffe, Sie werden groß sein\n"
     ]
    }
   ],
   "source": [
    "from transformers import pipeline\n",
    "\n",
    "translator=pipeline(\"translation_en_to_de\")\n",
    "text=\"ı hope you will be great\"\n",
    "outputs=translator(text,clean_up_tokenization_spaces=True)\n",
    "print(outputs[0][\"translation_text\"])"
   ]
  },
  {
   "cell_type": "markdown",
   "id": "fd5f5c56",
   "metadata": {},
   "source": [
    "# kaggle"
   ]
  },
  {
   "cell_type": "code",
   "execution_count": null,
   "id": "fed2c282",
   "metadata": {},
   "outputs": [],
   "source": [
    "from translate import Translator\n",
    "import pandas as pd\n",
    "\n",
    "import os\n",
    "file_path = \"/kaggle/input/rag-instruct-benchmark-teste/rag_instruct_benchmark_tester.csv\"\n",
    "if os.path.exists(file_path):\n",
    "    df = pd.read_csv(file_path)\n",
    "else:\n",
    "    print(f\"File not found: {file_path}\")\n",
    "\n",
    "df=df.head(5).copy()\n",
    "# df.to_csv('new_file.csv', index=False)\n",
    "\n",
    "# İlk birkaç satırı göster\n",
    "df.head()"
   ]
  },
  {
   "cell_type": "code",
   "execution_count": null,
   "id": "80655bed",
   "metadata": {},
   "outputs": [],
   "source": [
    "from translate import Translator\n",
    "import pandas as pd\n",
    "\n",
    "def translate_to_turkish(text):\n",
    "    translator = Translator(to_lang=\"tr\", service_urls=['translate.google.com'])\n",
    "    translation = translator.translate(text)\n",
    "    return translation\n",
    "\n",
    "def apply_translation_pipeline(df, columns):\n",
    "    translated_df = pd.DataFrame()\n",
    "    \n",
    "    for column in columns:\n",
    "        translated_column = df[column].apply(translate_to_turkish)\n",
    "        translated_df[column + '_tr'] = translated_column\n",
    "    \n",
    "    return translated_df\n",
    "\n",
    "# CSV dosyasını oku\n",
    "df = pd.read_csv('/kaggle/input/rag-instruct-benchmark-teste/rag_instruct_benchmark_tester.csv')\n",
    "\n",
    "# Çeviri yapılacak sütunları belirle\n",
    "translation_columns = ['query', 'answer', 'category']\n",
    "\n",
    "# Çeviri pipeline'ını uygula\n",
    "translated_df = apply_translation_pipeline(df, translation_columns)\n",
    "\n",
    "# Çevrilen DataFrame'i başka bir CSV dosyasına kaydet\n",
    "translated_df.to_csv('translated_file.csv', index=False)\n",
    "\n",
    "# İlk birkaç satırı göster\n",
    "translated_df.head()"
   ]
  }
 ],
 "metadata": {
  "kernelspec": {
   "display_name": "Python 3 (ipykernel)",
   "language": "python",
   "name": "python3"
  },
  "language_info": {
   "codemirror_mode": {
    "name": "ipython",
    "version": 3
   },
   "file_extension": ".py",
   "mimetype": "text/x-python",
   "name": "python",
   "nbconvert_exporter": "python",
   "pygments_lexer": "ipython3",
   "version": "3.11.5"
  }
 },
 "nbformat": 4,
 "nbformat_minor": 5
}
